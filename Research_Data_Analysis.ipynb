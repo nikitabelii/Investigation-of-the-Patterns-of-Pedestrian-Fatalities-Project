{
  "nbformat": 4,
  "nbformat_minor": 0,
  "metadata": {
    "colab": {
      "provenance": []
    },
    "kernelspec": {
      "name": "python3",
      "display_name": "Python 3"
    },
    "language_info": {
      "name": "python"
    }
  },
  "cells": [
    {
      "cell_type": "markdown",
      "source": [
        "# Goal"
      ],
      "metadata": {
        "id": "MeJhUgBTqS1i"
      }
    },
    {
      "cell_type": "markdown",
      "source": [
        "The goal of this project is to find any factors that appear to have an effect on fatality of pedestrians in vehicle-pedestrian crashes.\n",
        "\n",
        "Tests such as visualizations and descriptive statistics, correlations, and chi-square tests for independence will be used."
      ],
      "metadata": {
        "id": "iq9_MipsqUFE"
      }
    },
    {
      "cell_type": "markdown",
      "source": [
        "# Libraries"
      ],
      "metadata": {
        "id": "powHq62dptw5"
      }
    },
    {
      "cell_type": "code",
      "source": [
        "import pandas as pd\n",
        "import matplotlib.pyplot as plt\n",
        "import seaborn as sns"
      ],
      "metadata": {
        "id": "i5HnXtazpvUu"
      },
      "execution_count": null,
      "outputs": []
    },
    {
      "cell_type": "markdown",
      "source": [
        "# Dataset\n",
        "\n",
        "[Florida Non-Motorist Fatal and Serious Injuries, January-June 2019, FDOT](https://gis-fdot.opendata.arcgis.com/datasets/cd9e8dcee002441782d7657ee7b877d5/explore?location=27.442625%2C-83.677360%2C6.47)"
      ],
      "metadata": {
        "id": "f_Q5XEKXpKN_"
      }
    },
    {
      "cell_type": "code",
      "execution_count": null,
      "metadata": {
        "colab": {
          "base_uri": "https://localhost:8080/"
        },
        "id": "B6QFNW2ypG-z",
        "outputId": "e4edc247-60e8-4150-e826-16bd206f55f2"
      },
      "outputs": [
        {
          "output_type": "stream",
          "name": "stdout",
          "text": [
            "Mounted at /content/drive\n"
          ]
        }
      ],
      "source": [
        "from google.colab import drive\n",
        "drive.mount('/content/drive')"
      ]
    },
    {
      "cell_type": "code",
      "source": [
        "path = '/content/drive/MyDrive/Florida_NonMotorist_Fatal_and_Serious_Injuries_2019_4990189916879522819.csv'\n",
        "df = pd.read_csv(path)"
      ],
      "metadata": {
        "id": "BCMpbpTOp03A"
      },
      "execution_count": null,
      "outputs": []
    },
    {
      "cell_type": "code",
      "source": [
        "print([df.columns])\n",
        "df['Fatality'] = df['Person Injury Code'] - 4 # set fatality code to 0 (injured) or 1 (fatal)\n",
        "df"
      ],
      "metadata": {
        "colab": {
          "base_uri": "https://localhost:8080/",
          "height": 1000
        },
        "id": "u99bSP8FqDe_",
        "outputId": "bd9d82ff-d686-4fc0-e504-3311d5ebdf42"
      },
      "execution_count": null,
      "outputs": [
        {
          "output_type": "stream",
          "name": "stdout",
          "text": [
            "[Index(['FID', 'Person Key', 'Crash Key', 'FDOT Crash Number',\n",
            "       'FLHSMV Crash Number', 'Crash Date', 'Crash Time', 'Crash Time Slot',\n",
            "       'Crash Day', 'FDOT Managing District', 'FDOT County Code', 'County',\n",
            "       'FDOT Roadway ID', 'FDOT Mile Post', 'Road System', 'FDOT Latitude',\n",
            "       'FDOT Longitude', 'Person Type Code', 'Person Type',\n",
            "       'Person Gender Code', 'Person Gender', 'Person Age',\n",
            "       'Person Injury Code', 'Person Injury', 'Person Location Code',\n",
            "       'Person Location at Crash Time', 'Person Action Code',\n",
            "       'Person Action Prior to Crash', 'Person Action/Circumstance Code',\n",
            "       'Person Action/Circumstance', 'Suspected Alcohol Code',\n",
            "       'Suspected Alcohol Use', 'Suspected Drug Code', 'Suspected Drug Use',\n",
            "       'x', 'y'],\n",
            "      dtype='object')]\n"
          ]
        },
        {
          "output_type": "execute_result",
          "data": {
            "text/plain": [
              "     FID                         Person Key       Crash Key  \\\n",
              "0      1  880992810-2019-880992810-88099281  2019-880992810   \n",
              "1      2  880995770-2019-880995770-88099577  2019-880995770   \n",
              "2      3  880996320-2019-880996320-88099632  2019-880996320   \n",
              "3      4  881010510-2019-881010510-88101051  2019-881010510   \n",
              "4      5  881022360-2019-881022360-88102236  2019-881022360   \n",
              "..   ...                                ...             ...   \n",
              "904  905  880982700-2019-880982700-88098270  2019-880982700   \n",
              "905  906  880986170-2019-880986170-88098617  2019-880986170   \n",
              "906  907  880986450-2019-880986450-88098645  2019-880986450   \n",
              "907  908  880988020-2019-880988020-88098802  2019-880988020   \n",
              "908  909  880988960-2019-880988960-88098896  2019-880988960   \n",
              "\n",
              "     FDOT Crash Number  FLHSMV Crash Number              Crash Date  \\\n",
              "0            880992810             88099281  04/01/2019 09:35:00 AM   \n",
              "1            880995770             88099577  04/23/2019 09:52:00 AM   \n",
              "2            880996320             88099632  04/15/2019 07:23:00 PM   \n",
              "3            881010510             88101051  03/21/2019 08:57:00 AM   \n",
              "4            881022360             88102236  03/07/2019 09:03:00 AM   \n",
              "..                 ...                  ...                     ...   \n",
              "904          880982700             88098270  03/03/2019 09:41:00 PM   \n",
              "905          880986170             88098617  03/27/2019 08:21:00 PM   \n",
              "906          880986450             88098645  03/04/2019 04:11:00 PM   \n",
              "907          880988020             88098802  05/02/2019 01:45:00 AM   \n",
              "908          880988960             88098896  03/12/2019 03:05:00 AM   \n",
              "\n",
              "    Crash Time Crash Time Slot Crash Day  FDOT Managing District  ...  \\\n",
              "0      9:35 AM       4: 9A-12P    1: Sun                       3  ...   \n",
              "1      9:52 AM       4: 9A-12P    2: Mon                       5  ...   \n",
              "2      7:23 PM        7: 6P-9P    1: Sun                       1  ...   \n",
              "3      8:57 AM        3: 6A-9A    4: Wed                       5  ...   \n",
              "4      9:03 AM       4: 9A-12P    4: Wed                       5  ...   \n",
              "..         ...             ...       ...                     ...  ...   \n",
              "904    9:41 PM       8: 9P-12A    7: Sat                       7  ...   \n",
              "905    8:21 PM        7: 6P-9P    3: Tue                       7  ...   \n",
              "906    4:11 PM        6: 3P-6P    1: Sun                       1  ...   \n",
              "907    1:45 AM       1: 12A-3A    4: Wed                       3  ...   \n",
              "908    3:05 AM        2: 3A-6A    2: Mon                       5  ...   \n",
              "\n",
              "                          Person Action Prior to Crash  \\\n",
              "0                                     Crossing roadway   \n",
              "1                                     Crossing roadway   \n",
              "2                             Waiting to cross roadway   \n",
              "3                             Waiting to cross roadway   \n",
              "4                                     Crossing roadway   \n",
              "..                                                 ...   \n",
              "904                        Walking/cycling on sidewalk   \n",
              "905                        Walking/cycling on sidewalk   \n",
              "906                                              Other   \n",
              "907  Walking/cycling along roadway against traffic ...   \n",
              "908              Adjacent to roadway (shoulder median)   \n",
              "\n",
              "    Person Action/Circumstance Code  Person Action/Circumstance  \\\n",
              "0                                 1          No improper action   \n",
              "1                                 2                   Dart/dash   \n",
              "2                                 1          No improper action   \n",
              "3                                 1          No improper action   \n",
              "4                                 1          No improper action   \n",
              "..                              ...                         ...   \n",
              "904                               1          No improper action   \n",
              "905                               1          No improper action   \n",
              "906                               1          No improper action   \n",
              "907                               1          No improper action   \n",
              "908                               1          No improper action   \n",
              "\n",
              "     Suspected Alcohol Code Suspected Alcohol Use  Suspected Drug Code  \\\n",
              "0                         1                    No                    1   \n",
              "1                         1                    No                    1   \n",
              "2                         1                    No                    1   \n",
              "3                         1                    No                    1   \n",
              "4                         1                    No                    1   \n",
              "..                      ...                   ...                  ...   \n",
              "904                      88               Unknown                   88   \n",
              "905                       1                    No                    1   \n",
              "906                       1                    No                    1   \n",
              "907                       1                    No                    1   \n",
              "908                       1                    No                    1   \n",
              "\n",
              "     Suspected Drug Use             x             y  Fatality  \n",
              "0                    No -9.639531e+06  3.560395e+06         0  \n",
              "1                    No -9.063066e+06  3.326915e+06         0  \n",
              "2                    No -9.182127e+06  3.190972e+06         1  \n",
              "3                    No -9.057531e+06  3.306669e+06         0  \n",
              "4                    No -9.051078e+06  3.324297e+06         0  \n",
              "..                  ...           ...           ...       ...  \n",
              "904             Unknown -9.201769e+06  3.297268e+06         0  \n",
              "905                  No -9.210618e+06  3.271310e+06         0  \n",
              "906                  No -9.182474e+06  3.160847e+06         0  \n",
              "907                  No -9.689055e+06  3.554295e+06         0  \n",
              "908                  No -9.072908e+06  3.295778e+06         0  \n",
              "\n",
              "[909 rows x 37 columns]"
            ],
            "text/html": [
              "\n",
              "  <div id=\"df-5087209d-1b46-4416-8bf5-02566999ee17\" class=\"colab-df-container\">\n",
              "    <div>\n",
              "<style scoped>\n",
              "    .dataframe tbody tr th:only-of-type {\n",
              "        vertical-align: middle;\n",
              "    }\n",
              "\n",
              "    .dataframe tbody tr th {\n",
              "        vertical-align: top;\n",
              "    }\n",
              "\n",
              "    .dataframe thead th {\n",
              "        text-align: right;\n",
              "    }\n",
              "</style>\n",
              "<table border=\"1\" class=\"dataframe\">\n",
              "  <thead>\n",
              "    <tr style=\"text-align: right;\">\n",
              "      <th></th>\n",
              "      <th>FID</th>\n",
              "      <th>Person Key</th>\n",
              "      <th>Crash Key</th>\n",
              "      <th>FDOT Crash Number</th>\n",
              "      <th>FLHSMV Crash Number</th>\n",
              "      <th>Crash Date</th>\n",
              "      <th>Crash Time</th>\n",
              "      <th>Crash Time Slot</th>\n",
              "      <th>Crash Day</th>\n",
              "      <th>FDOT Managing District</th>\n",
              "      <th>...</th>\n",
              "      <th>Person Action Prior to Crash</th>\n",
              "      <th>Person Action/Circumstance Code</th>\n",
              "      <th>Person Action/Circumstance</th>\n",
              "      <th>Suspected Alcohol Code</th>\n",
              "      <th>Suspected Alcohol Use</th>\n",
              "      <th>Suspected Drug Code</th>\n",
              "      <th>Suspected Drug Use</th>\n",
              "      <th>x</th>\n",
              "      <th>y</th>\n",
              "      <th>Fatality</th>\n",
              "    </tr>\n",
              "  </thead>\n",
              "  <tbody>\n",
              "    <tr>\n",
              "      <th>0</th>\n",
              "      <td>1</td>\n",
              "      <td>880992810-2019-880992810-88099281</td>\n",
              "      <td>2019-880992810</td>\n",
              "      <td>880992810</td>\n",
              "      <td>88099281</td>\n",
              "      <td>04/01/2019 09:35:00 AM</td>\n",
              "      <td>9:35 AM</td>\n",
              "      <td>4: 9A-12P</td>\n",
              "      <td>1: Sun</td>\n",
              "      <td>3</td>\n",
              "      <td>...</td>\n",
              "      <td>Crossing roadway</td>\n",
              "      <td>1</td>\n",
              "      <td>No improper action</td>\n",
              "      <td>1</td>\n",
              "      <td>No</td>\n",
              "      <td>1</td>\n",
              "      <td>No</td>\n",
              "      <td>-9.639531e+06</td>\n",
              "      <td>3.560395e+06</td>\n",
              "      <td>0</td>\n",
              "    </tr>\n",
              "    <tr>\n",
              "      <th>1</th>\n",
              "      <td>2</td>\n",
              "      <td>880995770-2019-880995770-88099577</td>\n",
              "      <td>2019-880995770</td>\n",
              "      <td>880995770</td>\n",
              "      <td>88099577</td>\n",
              "      <td>04/23/2019 09:52:00 AM</td>\n",
              "      <td>9:52 AM</td>\n",
              "      <td>4: 9A-12P</td>\n",
              "      <td>2: Mon</td>\n",
              "      <td>5</td>\n",
              "      <td>...</td>\n",
              "      <td>Crossing roadway</td>\n",
              "      <td>2</td>\n",
              "      <td>Dart/dash</td>\n",
              "      <td>1</td>\n",
              "      <td>No</td>\n",
              "      <td>1</td>\n",
              "      <td>No</td>\n",
              "      <td>-9.063066e+06</td>\n",
              "      <td>3.326915e+06</td>\n",
              "      <td>0</td>\n",
              "    </tr>\n",
              "    <tr>\n",
              "      <th>2</th>\n",
              "      <td>3</td>\n",
              "      <td>880996320-2019-880996320-88099632</td>\n",
              "      <td>2019-880996320</td>\n",
              "      <td>880996320</td>\n",
              "      <td>88099632</td>\n",
              "      <td>04/15/2019 07:23:00 PM</td>\n",
              "      <td>7:23 PM</td>\n",
              "      <td>7: 6P-9P</td>\n",
              "      <td>1: Sun</td>\n",
              "      <td>1</td>\n",
              "      <td>...</td>\n",
              "      <td>Waiting to cross roadway</td>\n",
              "      <td>1</td>\n",
              "      <td>No improper action</td>\n",
              "      <td>1</td>\n",
              "      <td>No</td>\n",
              "      <td>1</td>\n",
              "      <td>No</td>\n",
              "      <td>-9.182127e+06</td>\n",
              "      <td>3.190972e+06</td>\n",
              "      <td>1</td>\n",
              "    </tr>\n",
              "    <tr>\n",
              "      <th>3</th>\n",
              "      <td>4</td>\n",
              "      <td>881010510-2019-881010510-88101051</td>\n",
              "      <td>2019-881010510</td>\n",
              "      <td>881010510</td>\n",
              "      <td>88101051</td>\n",
              "      <td>03/21/2019 08:57:00 AM</td>\n",
              "      <td>8:57 AM</td>\n",
              "      <td>3: 6A-9A</td>\n",
              "      <td>4: Wed</td>\n",
              "      <td>5</td>\n",
              "      <td>...</td>\n",
              "      <td>Waiting to cross roadway</td>\n",
              "      <td>1</td>\n",
              "      <td>No improper action</td>\n",
              "      <td>1</td>\n",
              "      <td>No</td>\n",
              "      <td>1</td>\n",
              "      <td>No</td>\n",
              "      <td>-9.057531e+06</td>\n",
              "      <td>3.306669e+06</td>\n",
              "      <td>0</td>\n",
              "    </tr>\n",
              "    <tr>\n",
              "      <th>4</th>\n",
              "      <td>5</td>\n",
              "      <td>881022360-2019-881022360-88102236</td>\n",
              "      <td>2019-881022360</td>\n",
              "      <td>881022360</td>\n",
              "      <td>88102236</td>\n",
              "      <td>03/07/2019 09:03:00 AM</td>\n",
              "      <td>9:03 AM</td>\n",
              "      <td>4: 9A-12P</td>\n",
              "      <td>4: Wed</td>\n",
              "      <td>5</td>\n",
              "      <td>...</td>\n",
              "      <td>Crossing roadway</td>\n",
              "      <td>1</td>\n",
              "      <td>No improper action</td>\n",
              "      <td>1</td>\n",
              "      <td>No</td>\n",
              "      <td>1</td>\n",
              "      <td>No</td>\n",
              "      <td>-9.051078e+06</td>\n",
              "      <td>3.324297e+06</td>\n",
              "      <td>0</td>\n",
              "    </tr>\n",
              "    <tr>\n",
              "      <th>...</th>\n",
              "      <td>...</td>\n",
              "      <td>...</td>\n",
              "      <td>...</td>\n",
              "      <td>...</td>\n",
              "      <td>...</td>\n",
              "      <td>...</td>\n",
              "      <td>...</td>\n",
              "      <td>...</td>\n",
              "      <td>...</td>\n",
              "      <td>...</td>\n",
              "      <td>...</td>\n",
              "      <td>...</td>\n",
              "      <td>...</td>\n",
              "      <td>...</td>\n",
              "      <td>...</td>\n",
              "      <td>...</td>\n",
              "      <td>...</td>\n",
              "      <td>...</td>\n",
              "      <td>...</td>\n",
              "      <td>...</td>\n",
              "      <td>...</td>\n",
              "    </tr>\n",
              "    <tr>\n",
              "      <th>904</th>\n",
              "      <td>905</td>\n",
              "      <td>880982700-2019-880982700-88098270</td>\n",
              "      <td>2019-880982700</td>\n",
              "      <td>880982700</td>\n",
              "      <td>88098270</td>\n",
              "      <td>03/03/2019 09:41:00 PM</td>\n",
              "      <td>9:41 PM</td>\n",
              "      <td>8: 9P-12A</td>\n",
              "      <td>7: Sat</td>\n",
              "      <td>7</td>\n",
              "      <td>...</td>\n",
              "      <td>Walking/cycling on sidewalk</td>\n",
              "      <td>1</td>\n",
              "      <td>No improper action</td>\n",
              "      <td>88</td>\n",
              "      <td>Unknown</td>\n",
              "      <td>88</td>\n",
              "      <td>Unknown</td>\n",
              "      <td>-9.201769e+06</td>\n",
              "      <td>3.297268e+06</td>\n",
              "      <td>0</td>\n",
              "    </tr>\n",
              "    <tr>\n",
              "      <th>905</th>\n",
              "      <td>906</td>\n",
              "      <td>880986170-2019-880986170-88098617</td>\n",
              "      <td>2019-880986170</td>\n",
              "      <td>880986170</td>\n",
              "      <td>88098617</td>\n",
              "      <td>03/27/2019 08:21:00 PM</td>\n",
              "      <td>8:21 PM</td>\n",
              "      <td>7: 6P-9P</td>\n",
              "      <td>3: Tue</td>\n",
              "      <td>7</td>\n",
              "      <td>...</td>\n",
              "      <td>Walking/cycling on sidewalk</td>\n",
              "      <td>1</td>\n",
              "      <td>No improper action</td>\n",
              "      <td>1</td>\n",
              "      <td>No</td>\n",
              "      <td>1</td>\n",
              "      <td>No</td>\n",
              "      <td>-9.210618e+06</td>\n",
              "      <td>3.271310e+06</td>\n",
              "      <td>0</td>\n",
              "    </tr>\n",
              "    <tr>\n",
              "      <th>906</th>\n",
              "      <td>907</td>\n",
              "      <td>880986450-2019-880986450-88098645</td>\n",
              "      <td>2019-880986450</td>\n",
              "      <td>880986450</td>\n",
              "      <td>88098645</td>\n",
              "      <td>03/04/2019 04:11:00 PM</td>\n",
              "      <td>4:11 PM</td>\n",
              "      <td>6: 3P-6P</td>\n",
              "      <td>1: Sun</td>\n",
              "      <td>1</td>\n",
              "      <td>...</td>\n",
              "      <td>Other</td>\n",
              "      <td>1</td>\n",
              "      <td>No improper action</td>\n",
              "      <td>1</td>\n",
              "      <td>No</td>\n",
              "      <td>1</td>\n",
              "      <td>No</td>\n",
              "      <td>-9.182474e+06</td>\n",
              "      <td>3.160847e+06</td>\n",
              "      <td>0</td>\n",
              "    </tr>\n",
              "    <tr>\n",
              "      <th>907</th>\n",
              "      <td>908</td>\n",
              "      <td>880988020-2019-880988020-88098802</td>\n",
              "      <td>2019-880988020</td>\n",
              "      <td>880988020</td>\n",
              "      <td>88098802</td>\n",
              "      <td>05/02/2019 01:45:00 AM</td>\n",
              "      <td>1:45 AM</td>\n",
              "      <td>1: 12A-3A</td>\n",
              "      <td>4: Wed</td>\n",
              "      <td>3</td>\n",
              "      <td>...</td>\n",
              "      <td>Walking/cycling along roadway against traffic ...</td>\n",
              "      <td>1</td>\n",
              "      <td>No improper action</td>\n",
              "      <td>1</td>\n",
              "      <td>No</td>\n",
              "      <td>1</td>\n",
              "      <td>No</td>\n",
              "      <td>-9.689055e+06</td>\n",
              "      <td>3.554295e+06</td>\n",
              "      <td>0</td>\n",
              "    </tr>\n",
              "    <tr>\n",
              "      <th>908</th>\n",
              "      <td>909</td>\n",
              "      <td>880988960-2019-880988960-88098896</td>\n",
              "      <td>2019-880988960</td>\n",
              "      <td>880988960</td>\n",
              "      <td>88098896</td>\n",
              "      <td>03/12/2019 03:05:00 AM</td>\n",
              "      <td>3:05 AM</td>\n",
              "      <td>2: 3A-6A</td>\n",
              "      <td>2: Mon</td>\n",
              "      <td>5</td>\n",
              "      <td>...</td>\n",
              "      <td>Adjacent to roadway (shoulder median)</td>\n",
              "      <td>1</td>\n",
              "      <td>No improper action</td>\n",
              "      <td>1</td>\n",
              "      <td>No</td>\n",
              "      <td>1</td>\n",
              "      <td>No</td>\n",
              "      <td>-9.072908e+06</td>\n",
              "      <td>3.295778e+06</td>\n",
              "      <td>0</td>\n",
              "    </tr>\n",
              "  </tbody>\n",
              "</table>\n",
              "<p>909 rows × 37 columns</p>\n",
              "</div>\n",
              "    <div class=\"colab-df-buttons\">\n",
              "\n",
              "  <div class=\"colab-df-container\">\n",
              "    <button class=\"colab-df-convert\" onclick=\"convertToInteractive('df-5087209d-1b46-4416-8bf5-02566999ee17')\"\n",
              "            title=\"Convert this dataframe to an interactive table.\"\n",
              "            style=\"display:none;\">\n",
              "\n",
              "  <svg xmlns=\"http://www.w3.org/2000/svg\" height=\"24px\" viewBox=\"0 -960 960 960\">\n",
              "    <path d=\"M120-120v-720h720v720H120Zm60-500h600v-160H180v160Zm220 220h160v-160H400v160Zm0 220h160v-160H400v160ZM180-400h160v-160H180v160Zm440 0h160v-160H620v160ZM180-180h160v-160H180v160Zm440 0h160v-160H620v160Z\"/>\n",
              "  </svg>\n",
              "    </button>\n",
              "\n",
              "  <style>\n",
              "    .colab-df-container {\n",
              "      display:flex;\n",
              "      gap: 12px;\n",
              "    }\n",
              "\n",
              "    .colab-df-convert {\n",
              "      background-color: #E8F0FE;\n",
              "      border: none;\n",
              "      border-radius: 50%;\n",
              "      cursor: pointer;\n",
              "      display: none;\n",
              "      fill: #1967D2;\n",
              "      height: 32px;\n",
              "      padding: 0 0 0 0;\n",
              "      width: 32px;\n",
              "    }\n",
              "\n",
              "    .colab-df-convert:hover {\n",
              "      background-color: #E2EBFA;\n",
              "      box-shadow: 0px 1px 2px rgba(60, 64, 67, 0.3), 0px 1px 3px 1px rgba(60, 64, 67, 0.15);\n",
              "      fill: #174EA6;\n",
              "    }\n",
              "\n",
              "    .colab-df-buttons div {\n",
              "      margin-bottom: 4px;\n",
              "    }\n",
              "\n",
              "    [theme=dark] .colab-df-convert {\n",
              "      background-color: #3B4455;\n",
              "      fill: #D2E3FC;\n",
              "    }\n",
              "\n",
              "    [theme=dark] .colab-df-convert:hover {\n",
              "      background-color: #434B5C;\n",
              "      box-shadow: 0px 1px 3px 1px rgba(0, 0, 0, 0.15);\n",
              "      filter: drop-shadow(0px 1px 2px rgba(0, 0, 0, 0.3));\n",
              "      fill: #FFFFFF;\n",
              "    }\n",
              "  </style>\n",
              "\n",
              "    <script>\n",
              "      const buttonEl =\n",
              "        document.querySelector('#df-5087209d-1b46-4416-8bf5-02566999ee17 button.colab-df-convert');\n",
              "      buttonEl.style.display =\n",
              "        google.colab.kernel.accessAllowed ? 'block' : 'none';\n",
              "\n",
              "      async function convertToInteractive(key) {\n",
              "        const element = document.querySelector('#df-5087209d-1b46-4416-8bf5-02566999ee17');\n",
              "        const dataTable =\n",
              "          await google.colab.kernel.invokeFunction('convertToInteractive',\n",
              "                                                    [key], {});\n",
              "        if (!dataTable) return;\n",
              "\n",
              "        const docLinkHtml = 'Like what you see? Visit the ' +\n",
              "          '<a target=\"_blank\" href=https://colab.research.google.com/notebooks/data_table.ipynb>data table notebook</a>'\n",
              "          + ' to learn more about interactive tables.';\n",
              "        element.innerHTML = '';\n",
              "        dataTable['output_type'] = 'display_data';\n",
              "        await google.colab.output.renderOutput(dataTable, element);\n",
              "        const docLink = document.createElement('div');\n",
              "        docLink.innerHTML = docLinkHtml;\n",
              "        element.appendChild(docLink);\n",
              "      }\n",
              "    </script>\n",
              "  </div>\n",
              "\n",
              "\n",
              "<div id=\"df-b24c18ee-fb38-4dad-a930-d3a5014d3263\">\n",
              "  <button class=\"colab-df-quickchart\" onclick=\"quickchart('df-b24c18ee-fb38-4dad-a930-d3a5014d3263')\"\n",
              "            title=\"Suggest charts\"\n",
              "            style=\"display:none;\">\n",
              "\n",
              "<svg xmlns=\"http://www.w3.org/2000/svg\" height=\"24px\"viewBox=\"0 0 24 24\"\n",
              "     width=\"24px\">\n",
              "    <g>\n",
              "        <path d=\"M19 3H5c-1.1 0-2 .9-2 2v14c0 1.1.9 2 2 2h14c1.1 0 2-.9 2-2V5c0-1.1-.9-2-2-2zM9 17H7v-7h2v7zm4 0h-2V7h2v10zm4 0h-2v-4h2v4z\"/>\n",
              "    </g>\n",
              "</svg>\n",
              "  </button>\n",
              "\n",
              "<style>\n",
              "  .colab-df-quickchart {\n",
              "      --bg-color: #E8F0FE;\n",
              "      --fill-color: #1967D2;\n",
              "      --hover-bg-color: #E2EBFA;\n",
              "      --hover-fill-color: #174EA6;\n",
              "      --disabled-fill-color: #AAA;\n",
              "      --disabled-bg-color: #DDD;\n",
              "  }\n",
              "\n",
              "  [theme=dark] .colab-df-quickchart {\n",
              "      --bg-color: #3B4455;\n",
              "      --fill-color: #D2E3FC;\n",
              "      --hover-bg-color: #434B5C;\n",
              "      --hover-fill-color: #FFFFFF;\n",
              "      --disabled-bg-color: #3B4455;\n",
              "      --disabled-fill-color: #666;\n",
              "  }\n",
              "\n",
              "  .colab-df-quickchart {\n",
              "    background-color: var(--bg-color);\n",
              "    border: none;\n",
              "    border-radius: 50%;\n",
              "    cursor: pointer;\n",
              "    display: none;\n",
              "    fill: var(--fill-color);\n",
              "    height: 32px;\n",
              "    padding: 0;\n",
              "    width: 32px;\n",
              "  }\n",
              "\n",
              "  .colab-df-quickchart:hover {\n",
              "    background-color: var(--hover-bg-color);\n",
              "    box-shadow: 0 1px 2px rgba(60, 64, 67, 0.3), 0 1px 3px 1px rgba(60, 64, 67, 0.15);\n",
              "    fill: var(--button-hover-fill-color);\n",
              "  }\n",
              "\n",
              "  .colab-df-quickchart-complete:disabled,\n",
              "  .colab-df-quickchart-complete:disabled:hover {\n",
              "    background-color: var(--disabled-bg-color);\n",
              "    fill: var(--disabled-fill-color);\n",
              "    box-shadow: none;\n",
              "  }\n",
              "\n",
              "  .colab-df-spinner {\n",
              "    border: 2px solid var(--fill-color);\n",
              "    border-color: transparent;\n",
              "    border-bottom-color: var(--fill-color);\n",
              "    animation:\n",
              "      spin 1s steps(1) infinite;\n",
              "  }\n",
              "\n",
              "  @keyframes spin {\n",
              "    0% {\n",
              "      border-color: transparent;\n",
              "      border-bottom-color: var(--fill-color);\n",
              "      border-left-color: var(--fill-color);\n",
              "    }\n",
              "    20% {\n",
              "      border-color: transparent;\n",
              "      border-left-color: var(--fill-color);\n",
              "      border-top-color: var(--fill-color);\n",
              "    }\n",
              "    30% {\n",
              "      border-color: transparent;\n",
              "      border-left-color: var(--fill-color);\n",
              "      border-top-color: var(--fill-color);\n",
              "      border-right-color: var(--fill-color);\n",
              "    }\n",
              "    40% {\n",
              "      border-color: transparent;\n",
              "      border-right-color: var(--fill-color);\n",
              "      border-top-color: var(--fill-color);\n",
              "    }\n",
              "    60% {\n",
              "      border-color: transparent;\n",
              "      border-right-color: var(--fill-color);\n",
              "    }\n",
              "    80% {\n",
              "      border-color: transparent;\n",
              "      border-right-color: var(--fill-color);\n",
              "      border-bottom-color: var(--fill-color);\n",
              "    }\n",
              "    90% {\n",
              "      border-color: transparent;\n",
              "      border-bottom-color: var(--fill-color);\n",
              "    }\n",
              "  }\n",
              "</style>\n",
              "\n",
              "  <script>\n",
              "    async function quickchart(key) {\n",
              "      const quickchartButtonEl =\n",
              "        document.querySelector('#' + key + ' button');\n",
              "      quickchartButtonEl.disabled = true;  // To prevent multiple clicks.\n",
              "      quickchartButtonEl.classList.add('colab-df-spinner');\n",
              "      try {\n",
              "        const charts = await google.colab.kernel.invokeFunction(\n",
              "            'suggestCharts', [key], {});\n",
              "      } catch (error) {\n",
              "        console.error('Error during call to suggestCharts:', error);\n",
              "      }\n",
              "      quickchartButtonEl.classList.remove('colab-df-spinner');\n",
              "      quickchartButtonEl.classList.add('colab-df-quickchart-complete');\n",
              "    }\n",
              "    (() => {\n",
              "      let quickchartButtonEl =\n",
              "        document.querySelector('#df-b24c18ee-fb38-4dad-a930-d3a5014d3263 button');\n",
              "      quickchartButtonEl.style.display =\n",
              "        google.colab.kernel.accessAllowed ? 'block' : 'none';\n",
              "    })();\n",
              "  </script>\n",
              "</div>\n",
              "\n",
              "  <div id=\"id_f826e875-da21-42cf-a345-cebd1c3af78d\">\n",
              "    <style>\n",
              "      .colab-df-generate {\n",
              "        background-color: #E8F0FE;\n",
              "        border: none;\n",
              "        border-radius: 50%;\n",
              "        cursor: pointer;\n",
              "        display: none;\n",
              "        fill: #1967D2;\n",
              "        height: 32px;\n",
              "        padding: 0 0 0 0;\n",
              "        width: 32px;\n",
              "      }\n",
              "\n",
              "      .colab-df-generate:hover {\n",
              "        background-color: #E2EBFA;\n",
              "        box-shadow: 0px 1px 2px rgba(60, 64, 67, 0.3), 0px 1px 3px 1px rgba(60, 64, 67, 0.15);\n",
              "        fill: #174EA6;\n",
              "      }\n",
              "\n",
              "      [theme=dark] .colab-df-generate {\n",
              "        background-color: #3B4455;\n",
              "        fill: #D2E3FC;\n",
              "      }\n",
              "\n",
              "      [theme=dark] .colab-df-generate:hover {\n",
              "        background-color: #434B5C;\n",
              "        box-shadow: 0px 1px 3px 1px rgba(0, 0, 0, 0.15);\n",
              "        filter: drop-shadow(0px 1px 2px rgba(0, 0, 0, 0.3));\n",
              "        fill: #FFFFFF;\n",
              "      }\n",
              "    </style>\n",
              "    <button class=\"colab-df-generate\" onclick=\"generateWithVariable('df')\"\n",
              "            title=\"Generate code using this dataframe.\"\n",
              "            style=\"display:none;\">\n",
              "\n",
              "  <svg xmlns=\"http://www.w3.org/2000/svg\" height=\"24px\"viewBox=\"0 0 24 24\"\n",
              "       width=\"24px\">\n",
              "    <path d=\"M7,19H8.4L18.45,9,17,7.55,7,17.6ZM5,21V16.75L18.45,3.32a2,2,0,0,1,2.83,0l1.4,1.43a1.91,1.91,0,0,1,.58,1.4,1.91,1.91,0,0,1-.58,1.4L9.25,21ZM18.45,9,17,7.55Zm-12,3A5.31,5.31,0,0,0,4.9,8.1,5.31,5.31,0,0,0,1,6.5,5.31,5.31,0,0,0,4.9,4.9,5.31,5.31,0,0,0,6.5,1,5.31,5.31,0,0,0,8.1,4.9,5.31,5.31,0,0,0,12,6.5,5.46,5.46,0,0,0,6.5,12Z\"/>\n",
              "  </svg>\n",
              "    </button>\n",
              "    <script>\n",
              "      (() => {\n",
              "      const buttonEl =\n",
              "        document.querySelector('#id_f826e875-da21-42cf-a345-cebd1c3af78d button.colab-df-generate');\n",
              "      buttonEl.style.display =\n",
              "        google.colab.kernel.accessAllowed ? 'block' : 'none';\n",
              "\n",
              "      buttonEl.onclick = () => {\n",
              "        google.colab.notebook.generateWithVariable('df');\n",
              "      }\n",
              "      })();\n",
              "    </script>\n",
              "  </div>\n",
              "\n",
              "    </div>\n",
              "  </div>\n"
            ],
            "application/vnd.google.colaboratory.intrinsic+json": {
              "type": "dataframe",
              "variable_name": "df"
            }
          },
          "metadata": {},
          "execution_count": 5
        }
      ]
    },
    {
      "cell_type": "markdown",
      "source": [
        "# Testing"
      ],
      "metadata": {
        "id": "iqrVDj6lq0Xo"
      }
    },
    {
      "cell_type": "markdown",
      "source": [
        "## Time of Day and Week\n",
        "In addition to testing data, this section also introduces the tests to be used."
      ],
      "metadata": {
        "id": "cspKTGaBrBY7"
      }
    },
    {
      "cell_type": "markdown",
      "source": [
        "Firstly, new columns have to be added to ensure better workability of the dataset. The dataset is then split into appropriate, grouped subsets."
      ],
      "metadata": {
        "id": "Z_C4py6XwufX"
      }
    },
    {
      "cell_type": "code",
      "source": [
        "# Relevant data: Crash Time Slot, Crash Day, Fatality\n",
        "df['Time Code'] = [int(x[0])-1 for x in df['Crash Time Slot']]\n",
        "time_codes = ['12a-3a','3a-6a','6a-9a','9a-12p','12p-3p','3p-6p','6p-9p','9p-12a']\n",
        "tdf = df[['Time Code','Fatality']]\n",
        "\n",
        "df['Day Code'] = [int(x[0])-1 for x in df['Crash Day']]\n",
        "day_codes = ['Sun','Mon','Tue','Wed','Thu','Fri','Sat']\n",
        "wdf = df[['Day Code','Fatality']]"
      ],
      "metadata": {
        "id": "NOXlVtsjv49I"
      },
      "execution_count": null,
      "outputs": []
    },
    {
      "cell_type": "markdown",
      "source": [
        "### Descriptive Statistics"
      ],
      "metadata": {
        "id": "I4_LZgTs3itP"
      }
    },
    {
      "cell_type": "markdown",
      "source": [
        "The first set of charts will plot the total number of pedestrian impacts on a given time of day and day of week."
      ],
      "metadata": {
        "id": "YPXkMcr55KyH"
      }
    },
    {
      "cell_type": "code",
      "source": [
        "_,ax = plt.subplots(1,2,figsize=(12,4),sharey=True)\n",
        "sns.countplot(ax=ax[0], data=tdf, x='Time Code') # plot accidents by time\n",
        "ax[0].set_xticks(range(8),time_codes)\n",
        "ax[0].set_ylabel('Number of Crashes')\n",
        "ax[0].set_title('Number of Pedestrian Accidents by Time of Day')\n",
        "sns.countplot(ax=ax[1], data=wdf, x='Day Code') # plot accidents by weekday\n",
        "ax[1].set_xticks(range(7),day_codes)\n",
        "ax[1].set_title('Number of Pedestrian Accidents by Day of Week')\n",
        "plt.show()"
      ],
      "metadata": {
        "colab": {
          "base_uri": "https://localhost:8080/",
          "height": 410
        },
        "id": "JhM3z4tUyeGz",
        "outputId": "105b035c-1e4d-43df-9793-7576d5d25290"
      },
      "execution_count": null,
      "outputs": [
        {
          "output_type": "display_data",
          "data": {
            "text/plain": [
              "<Figure size 1200x400 with 2 Axes>"
            ],
            "image/png": "[encoded data removed]"
          },
          "metadata": {}
        }
      ]
    },
    {
      "cell_type": "markdown",
      "source": [
        "Next, the specific ratio of fatal impacts to total will be charted."
      ],
      "metadata": {
        "id": "xMKq12BL5UyP"
      }
    },
    {
      "cell_type": "code",
      "source": [
        "_,ax = plt.subplots(1,2,figsize=(12,4),sharey=True)\n",
        "sns.barplot(ax=ax[0], x=range(8), y=tdf.groupby('Time Code').mean()['Fatality']) # plot fatality by time\n",
        "ax[0].set_xticks(range(8),time_codes)\n",
        "ax[0].set_ylabel('Fraction of Fatal Crashes')\n",
        "ax[0].set_title('Pedestrian Fatality by Time of Day')\n",
        "sns.barplot(ax=ax[1], x=range(7), y=wdf.groupby('Day Code').mean()['Fatality']) # plot fatality by weekday\n",
        "ax[1].set_xticks(range(7),day_codes)\n",
        "ax[1].set_title('Pedestrian Fatality by Day of Week')\n",
        "plt.show()"
      ],
      "metadata": {
        "colab": {
          "base_uri": "https://localhost:8080/",
          "height": 391
        },
        "id": "PbqhRkFN5eQc",
        "outputId": "3576bc6e-93f2-4a79-c517-c2daa12b05e4"
      },
      "execution_count": null,
      "outputs": [
        {
          "output_type": "display_data",
          "data": {
            "text/plain": [
              "<Figure size 1200x400 with 2 Axes>"
            ],
            "image/png": "[encoded data removed]"
          },
          "metadata": {}
        }
      ]
    },
    {
      "cell_type": "markdown",
      "source": [
        "Both sets of charts show that there is reason to suspect time of day and day of week both may have significant effects on crash likelihood and fatality. To test if they are truly dependent and affect the chance of death, a chi-square test must be conducted."
      ],
      "metadata": {
        "id": "Usk0lQMK6_e5"
      }
    },
    {
      "cell_type": "markdown",
      "source": [
        "### Chi-Square Test"
      ],
      "metadata": {
        "id": "54OB41Ep3kym"
      }
    },
    {
      "cell_type": "markdown",
      "source": [
        "To conduct a chi-square test for independence, firstly the observed values for all variables needs to be found."
      ],
      "metadata": {
        "id": "Nc-hiif99q9q"
      }
    },
    {
      "cell_type": "code",
      "source": [
        "# for each category, format values as a list of tuples of (fatalities, nonfatalities) for each time/day\n",
        "observed_time = []\n",
        "for i in range(8):\n",
        "  observed_time.append((sum(tdf[tdf['Time Code']==i]['Fatality']),len(tdf[tdf['Time Code']==i])-sum(tdf[tdf['Time Code']==i]['Fatality'])))\n",
        "\n",
        "observed_day = []\n",
        "for i in range(7):\n",
        "  observed_day.append((sum(wdf[wdf['Day Code']==i]['Fatality']),len(wdf[wdf['Day Code']==i])-sum(wdf[wdf['Day Code']==i]['Fatality'])))\n",
        "\n",
        "print('Observed Fatalities by Time:',observed_time,'\\nObserved Fatalities by Day:',observed_day,)"
      ],
      "metadata": {
        "colab": {
          "base_uri": "https://localhost:8080/"
        },
        "id": "RpIKl_vU9qp8",
        "outputId": "ebdfeead-900d-438d-b2e6-477b79ce2e6b"
      },
      "execution_count": null,
      "outputs": [
        {
          "output_type": "stream",
          "name": "stdout",
          "text": [
            "Observed Fatalities by Time: [(12, 68), (18, 62), (16, 67), (15, 53), (22, 78), (29, 73), (54, 163), (40, 139)] \n",
            "Observed Fatalities by Day: [(24, 93), (25, 77), (25, 93), (22, 115), (46, 104), (28, 117), (36, 104)]\n"
          ]
        }
      ]
    },
    {
      "cell_type": "markdown",
      "source": [
        "Next, the expected values for all variables need to be calculated, utilizing a contingency chart."
      ],
      "metadata": {
        "id": "Do1D7-16BUrT"
      }
    },
    {
      "cell_type": "code",
      "source": [
        "total = len(df)\n",
        "\n",
        "expected_time = []\n",
        "for time in range(len(observed_time)):\n",
        "  expected_time.append([])\n",
        "  for item in range(len(observed_time[time])):\n",
        "    expected_time[-1].append(sum(observed_time[time])*sum([row[item] for row in observed_time])/total)\n",
        "\n",
        "# the expected value for each point (e.g. fatalities at 3pm) is total of the row (crashes at 3pm) times the fraction of the column (overall fatality rate)\n",
        "\n",
        "expected_day = []\n",
        "for day in range(len(observed_day)):\n",
        "  expected_day.append([])\n",
        "  for item in range(len(observed_day[day])):\n",
        "    expected_day[-1].append(sum(observed_day[day])*sum([row[item] for row in observed_day])/total)"
      ],
      "metadata": {
        "id": "hwDwmCAze9Xd"
      },
      "execution_count": null,
      "outputs": []
    },
    {
      "cell_type": "markdown",
      "source": [
        "Now, for the chi-squared test, the expected and observed values must be compared. The expected values are calculated under the assumption that the fatality rate is equal for every time of day and day of week. If these values are significantly different above a critical value (significance calculated using the formula below), then we can reject the possiblity of crash fatality rate and time/day being independent of eachother.\n",
        "\n",
        "$\\chi^2 = \\sum{(O_i - E_i)^2\\over{E_i}}$\n",
        "\n",
        "If $\\chi^2>$ Critical Value, then independence can be rejected.\n",
        "\n",
        "Using a 95% significance level, the critical values are 14.067 for time (7 DF) and 12.592 for weekdays (6 DF)"
      ],
      "metadata": {
        "id": "lMglpBk8iXJJ"
      }
    },
    {
      "cell_type": "code",
      "source": [
        "chi = 0\n",
        "for i in range(len(observed_time)):\n",
        "  for j in range(len(observed_time[i])):\n",
        "    chi += (observed_time[i][j]-expected_time[i][j])**2/expected_time[i][j] # implement above formula\n",
        "print('Time Chi-square statistic:',round(chi,3),'   Greater than 14.067?',chi>14.067)\n",
        "\n",
        "chi = 0\n",
        "for i in range(len(observed_day)):\n",
        "  for j in range(len(observed_day[i])):\n",
        "    chi += (observed_day[i][j]-expected_day[i][j])**2/expected_day[i][j] # do it again\n",
        "print('Day Chi-square statistic:',round(chi,3),'   Greater than 12.592?',chi>12.592)"
      ],
      "metadata": {
        "colab": {
          "base_uri": "https://localhost:8080/"
        },
        "id": "zrn7XiGLg5VH",
        "outputId": "9ba7828f-6c93-4fa5-9fa4-40c73070a119"
      },
      "execution_count": null,
      "outputs": [
        {
          "output_type": "stream",
          "name": "stdout",
          "text": [
            "Time Chi-square statistic: 5.822    Greater than 14.067? False\n",
            "Day Chi-square statistic: 11.22    Greater than 12.592? False\n"
          ]
        }
      ]
    },
    {
      "cell_type": "markdown",
      "source": [
        "At a 5% significance level, this test does *not* disprove independence for time and fatality nor day and fatality. *However*, at 10% significance, it *does* disprove independence between day and fatality. While it is unlikely time of day has an effect on fatality rates, there is 90% confidence that day of the week does have some kind of influence."
      ],
      "metadata": {
        "id": "66z_litnpMzl"
      }
    },
    {
      "cell_type": "markdown",
      "source": [
        "## Alcohol and Drug use"
      ],
      "metadata": {
        "id": "vxnhVL6PrDEV"
      }
    },
    {
      "cell_type": "code",
      "source": [
        "# Relevant data: Suspected Alcohol Code, Suspected Drug Code, Fatality\n",
        "df['Alcohol Code'] = [0 if x==1 else 1 if x==2 else -1 for x in df['Suspected Alcohol Code']]\n",
        "alcohol_codes = ['No Alcohol Use','Alcohol Use']\n",
        "adf = df[['Alcohol Code','Fatality']][df['Alcohol Code'] >= 0] # exclude na/unknown alcohol state\n",
        "\n",
        "df['Drug Code'] = [0 if x==1 else 1 if x==2 else -1 for x in df['Suspected Drug Code']]\n",
        "drug_codes = ['No Drug Use','Drug Use']\n",
        "ddf = df[['Drug Code','Fatality']][df['Drug Code'] >= 0] # exclude na/unknown drug state"
      ],
      "metadata": {
        "id": "H4Yz8oeoq7p4"
      },
      "execution_count": null,
      "outputs": []
    },
    {
      "cell_type": "markdown",
      "source": [
        "### Descriptive Statistics"
      ],
      "metadata": {
        "id": "OXbFPaYbtl4V"
      }
    },
    {
      "cell_type": "markdown",
      "source": [
        "Using this data, the only relevant visualization is fatality rates of crashes with and without drugs/alcohol involved."
      ],
      "metadata": {
        "id": "y0GWScZQt_hA"
      }
    },
    {
      "cell_type": "code",
      "source": [
        "_,ax = plt.subplots(1,2,figsize=(6,4),sharey=True)\n",
        "sns.barplot(ax=ax[0], x=range(2), y=adf.groupby('Alcohol Code').mean()['Fatality']) # plot fatality by alcohol use\n",
        "ax[0].set_xticks(range(2),alcohol_codes)\n",
        "ax[0].set_ylabel('Fraction of Fatal Crashes')\n",
        "ax[0].set_title('Pedestrian Fatality by Alcohol Use')\n",
        "sns.barplot(ax=ax[1], x=range(2), y=ddf.groupby('Drug Code').mean()['Fatality']) # plot fatality by drug use\n",
        "ax[1].set_xticks(range(2),drug_codes)\n",
        "ax[1].set_title('Fatality by Drug Use')\n",
        "plt.show()"
      ],
      "metadata": {
        "colab": {
          "base_uri": "https://localhost:8080/",
          "height": 391
        },
        "id": "QYnsZSDOumRi",
        "outputId": "0a7ff3b1-bf4e-4d26-f170-47e2712022eb"
      },
      "execution_count": null,
      "outputs": [
        {
          "output_type": "display_data",
          "data": {
            "text/plain": [
              "<Figure size 600x400 with 2 Axes>"
            ],
            "image/png": "[encoded data removed]"
          },
          "metadata": {}
        }
      ]
    },
    {
      "cell_type": "markdown",
      "source": [
        "The chart shows an extreme effect between alcohol/drug use and deaths versus sober driving. From the chart alone, it appears to be a given relationship, a chi-square test is still warranted to confirm, especially with the low sample size of suspected drug use."
      ],
      "metadata": {
        "id": "QuwnuM_VySKB"
      }
    },
    {
      "cell_type": "markdown",
      "source": [
        "### Chi-Square Test"
      ],
      "metadata": {
        "id": "K-aMRawAynIG"
      }
    },
    {
      "cell_type": "markdown",
      "source": [
        "Firstly, observed and expected values need to be compiled."
      ],
      "metadata": {
        "id": "r4SHeZjSytrH"
      }
    },
    {
      "cell_type": "code",
      "source": [
        "# for each category, format values as a list of tuples of (fatalities, nonfatalities) for each alcohol/drug use\n",
        "observed_alcohol = [list(adf.groupby('Fatality').sum()['Alcohol Code'])[::-1], # fatal/nonfatal with alcohol\n",
        "                    list(adf.groupby('Fatality').count()['Alcohol Code']-adf.groupby('Fatality').sum()['Alcohol Code'])[::-1]] # fatal/nonfatal without alcohol\n",
        "observed_drugs = [list(ddf.groupby('Fatality').sum()['Drug Code'])[::-1], # fatal/nonfatal with drugs\n",
        "                  list(ddf.groupby('Fatality').count()['Drug Code']-ddf.groupby('Fatality').sum()['Drug Code'])[::-1]] # fatal/nonfatal without drugs\n",
        "print('Observed Fatalities by Alcohol Use:',observed_alcohol,'\\nObserved Fatalities by Drug Use:',observed_drugs)"
      ],
      "metadata": {
        "colab": {
          "base_uri": "https://localhost:8080/"
        },
        "id": "xL1vF1bzyqHA",
        "outputId": "5d219ff3-d695-485d-9eac-65105601dea9"
      },
      "execution_count": null,
      "outputs": [
        {
          "output_type": "stream",
          "name": "stdout",
          "text": [
            "Observed Fatalities by Alcohol Use: [[60, 98], [63, 521]] \n",
            "Observed Fatalities by Drug Use: [[18, 13], [86, 569]]\n"
          ]
        }
      ]
    },
    {
      "cell_type": "code",
      "source": [
        "# both expected categories are calculated with the total amount of fatalities/nonfatalities times the total alcohol/drugs/sober, divided by the total amount\n",
        "expected_alcohol = [[sum(adf['Fatality'])*sum(adf['Alcohol Code'])/len(adf),sum(adf['Fatality']==0)*sum(adf['Alcohol Code'])/len(adf)], # fatal/nonfatal with alcohol\n",
        "                    [sum(adf['Fatality'])*sum(adf['Alcohol Code']==0)/len(adf),sum(adf['Fatality']==0)*sum(adf['Alcohol Code']==0)/len(adf)]] # fatal/nonfatal without alcohol\n",
        "expected_drugs = [[sum(ddf['Fatality'])*sum(ddf['Drug Code'])/len(ddf),sum(ddf['Fatality']==0)*sum(ddf['Drug Code'])/len(ddf)], # fatal/nonfatal with drugs\n",
        "                  [sum(ddf['Fatality'])*sum(ddf['Drug Code']==0)/len(ddf),sum(ddf['Fatality']==0)*sum(ddf['Drug Code']==0)/len(ddf)]] # fatal/nonfatal without drugs"
      ],
      "metadata": {
        "id": "7PcFVNM92_Cx"
      },
      "execution_count": null,
      "outputs": []
    },
    {
      "cell_type": "markdown",
      "source": [
        "For the chi-square test, the expected and observed values for alcohol fatalities and drug fatalities must be compared using the same formula as before. Both categories have DF 1, for a critical value of 3.841 for both categories to beat."
      ],
      "metadata": {
        "id": "xmB-eCI44-cf"
      }
    },
    {
      "cell_type": "code",
      "source": [
        "chi = 0\n",
        "for i in range(len(observed_alcohol)):\n",
        "  for j in range(len(observed_alcohol[i])):\n",
        "    chi += (observed_alcohol[i][j]-expected_alcohol[i][j])**2/expected_alcohol[i][j]\n",
        "print('Alcohol Chi-square statistic:',round(chi,3),'   Greater than 3.841?',chi>3.841)\n",
        "\n",
        "chi = 0\n",
        "for i in range(len(observed_drugs)):\n",
        "  for j in range(len(observed_drugs[i])):\n",
        "    chi += (observed_drugs[i][j]-expected_drugs[i][j])**2/expected_drugs[i][j]\n",
        "print('Drug Chi-square statistic:',round(chi,3),'   Greater than 3.841?',chi>3.841)"
      ],
      "metadata": {
        "colab": {
          "base_uri": "https://localhost:8080/"
        },
        "id": "PFY8YKcq3tvQ",
        "outputId": "7356311e-7bd7-4e22-863d-aaa8eb0562dd"
      },
      "execution_count": null,
      "outputs": [
        {
          "output_type": "stream",
          "name": "stdout",
          "text": [
            "Alcohol Chi-square statistic: 66.466    Greater than 3.841? True\n",
            "Drug Chi-square statistic: 46.466    Greater than 3.841? True\n"
          ]
        }
      ]
    },
    {
      "cell_type": "markdown",
      "source": [
        "Both categories' chi-square tests show an extremely high value output, both over ten times larger than the critical value. This correlates to a very low p-value, such that the chance of drugs and alcohol *not* affecting fatality rate is extremely small; there is almost definitely a relationship."
      ],
      "metadata": {
        "id": "CyEJ39OI5upV"
      }
    },
    {
      "cell_type": "markdown",
      "source": [
        "## Age of Victim"
      ],
      "metadata": {
        "id": "YAgePVQatO3H"
      }
    },
    {
      "cell_type": "markdown",
      "source": [
        "For ease of use, the additional column for pedestrian age will also be separated into groups in order to make more testing possible."
      ],
      "metadata": {
        "id": "QKt714GNGw6M"
      }
    },
    {
      "cell_type": "code",
      "source": [
        "# Relevant data: Person Age and Fatality\n",
        "df['Age Group'] = df['Person Age']//10\n",
        "age_codes = ['<10','10-19','20-29','30-39','40-49','50-59','60-69','70-79','80-89','90-99','100+']\n",
        "odf = df[['Age Group','Fatality']]"
      ],
      "metadata": {
        "id": "2CAgJSigHAbS"
      },
      "execution_count": null,
      "outputs": []
    },
    {
      "cell_type": "markdown",
      "source": [
        "### Descriptive Statistics"
      ],
      "metadata": {
        "id": "3svurr6dH1MH"
      }
    },
    {
      "cell_type": "markdown",
      "source": [
        "For age groups, both number of crashes per age group and fatality rates per age group may be relevant, so they are both charted below."
      ],
      "metadata": {
        "id": "mep4wUXVH7Ka"
      }
    },
    {
      "cell_type": "code",
      "source": [
        "_,ax = plt.subplots(1,2,figsize=(14,4))\n",
        "sns.barplot(ax=ax[0], x=range(11), y=odf.groupby('Age Group').count()['Fatality']) # plot fatality by alcohol use\n",
        "ax[0].set_xticks(range(11),age_codes)\n",
        "ax[0].set_ylabel('Number of Crashes')\n",
        "ax[0].set_title('Pedestrian crashes by Age')\n",
        "sns.barplot(ax=ax[1], x=range(11), y=odf.groupby('Age Group').mean()['Fatality']) # plot fatality by drug use\n",
        "ax[1].set_xticks(range(11),age_codes)\n",
        "ax[1].set_title('Fatality rate by Age')\n",
        "ax[1].set_ylabel('Fraction of Fatal Crashes')\n",
        "plt.show()"
      ],
      "metadata": {
        "id": "6hUdTaXEH6og"
      },
      "execution_count": null,
      "outputs": []
    },
    {
      "cell_type": "markdown",
      "source": [
        "The charts show that the number of crashes is skewed, most likely by population amount; however, the fatality rate is heavily skewed to the rate, evident that older pedestrians are more likely to be killed in the event of a crash."
      ],
      "metadata": {
        "id": "2htRp3dBJWGA"
      }
    },
    {
      "cell_type": "markdown",
      "source": [
        "### Chi-Square Test"
      ],
      "metadata": {
        "id": "vQcsouBSJ0pD"
      }
    },
    {
      "cell_type": "markdown",
      "source": [
        "Observed and expected amounts must be compiled for all age groups and fatalities."
      ],
      "metadata": {
        "id": "10jbEuolKz6M"
      }
    },
    {
      "cell_type": "code",
      "source": [
        "# calculate observed age fatalities by evaluating fatality amounts for all age groups\n",
        "observed_age = []\n",
        "for i in range(11):\n",
        "  observed_age.append((sum(odf[odf['Age Group']==i]['Fatality']),len(odf[odf['Age Group']==i])-sum(odf[odf['Age Group']==i]['Fatality'])))\n",
        "\n",
        "# calculate expected age fatalities by multiplying age proportion by fatality rate\n",
        "expected_age,total = [],len(df)\n",
        "for group in range(len(observed_age)):\n",
        "  expected_age.append([])\n",
        "  for item in range(len(observed_age[group])):\n",
        "    expected_age[-1].append(sum(observed_age[group])*sum([row[item] for row in observed_age])/total)\n",
        "\n",
        "for age in range(len(observed_age)):\n",
        "  print(age_codes[age]+':')\n",
        "  print(f'  Observed values: {observed_age[age]}\\n  Expected values: ({expected_age[age][0]:.3f}, {expected_age[age][1]:.3f})')"
      ],
      "metadata": {
        "id": "kE87dKzgKzVa"
      },
      "execution_count": null,
      "outputs": []
    },
    {
      "cell_type": "markdown",
      "source": [
        "With the amounts found above, a Chi-Square test can be conducted at 95% significance against the critical value of 18.307 (DF 10)"
      ],
      "metadata": {
        "id": "qSR3fBj8Nr93"
      }
    },
    {
      "cell_type": "code",
      "source": [
        "chi = 0\n",
        "for i in range(len(observed_age)):\n",
        "  for j in range(len(observed_age[i])):\n",
        "    chi += (observed_age[i][j]-expected_age[i][j])**2/expected_age[i][j]\n",
        "print('Age Chi-square statistic:',round(chi,3),'   Greater than 18.307?',chi>18.307)"
      ],
      "metadata": {
        "id": "5g6VnsgtN51S"
      },
      "execution_count": null,
      "outputs": []
    },
    {
      "cell_type": "markdown",
      "source": [
        "The Chi-Square test gives sufficient evidence of a relationship between age and impact fatality; the chi statistic is very high, making for a substantially low p-value."
      ],
      "metadata": {
        "id": "GVRaOF3QSiFu"
      }
    },
    {
      "cell_type": "markdown",
      "source": [
        "### Correlation Test"
      ],
      "metadata": {
        "id": "9BoHfeklJ3EU"
      }
    },
    {
      "cell_type": "markdown",
      "source": [
        "In addition to simply looking at graphs, another test can also be used to show how strong of a correlation there is between age and fatality rates, and whether that correlation is positive or negative; calculating the Pearson Correlation Coefficient.\n",
        "\n",
        "The coefficient is defined as:\n",
        "\n",
        "$r_{xy} = {\\sum(x-\\bar{x})(y-\\bar{y}) \\over \\sqrt{(\\sum(x-\\bar{x})^2)*(\\sum(y-\\bar{y})^2)}}$\n",
        "\n",
        "For simplicity, the calculation will be split into three parts and then compiled afterwards.\n",
        "\n",
        "$p1 = \\sum(x-\\bar{x})(y-\\bar{y})$\n",
        "\n",
        "$p2 = \\sum(x-\\bar{x})^2$\n",
        "\n",
        "$p3 = \\sum(y-\\bar{y})^2$\n",
        "\n",
        "$r_{xy} = {p1 \\over \\sqrt{p2*p3}}$"
      ],
      "metadata": {
        "id": "r4byn_WTSylm"
      }
    },
    {
      "cell_type": "code",
      "source": [
        "p1,p2,p3 = 0,0,0\n",
        "x,y = df['Person Age'],df['Fatality']\n",
        "mx = sum(x)/len(x) # mean of x (age)\n",
        "my = sum(y)/len(y) # mean of y (fatality rate)\n",
        "for i in range(len(x)):\n",
        "  p1 += (x[i]-mx)*(y[i]-my)\n",
        "  p2 += (x[i]-mx)**2\n",
        "  p3 += (y[i]-my)**2\n",
        "correl = p1/(p2*p3)**0.5\n",
        "print(correl)"
      ],
      "metadata": {
        "id": "lo6LJx3aTPId"
      },
      "execution_count": null,
      "outputs": []
    },
    {
      "cell_type": "markdown",
      "source": [
        "With a correlation coefficient of $r_{xy}=0.169$, there appears to be a positive relationship between age and fatality rate, but it includes a significant amount of variance. This is consistent with the results of the other tests."
      ],
      "metadata": {
        "id": "vEDwRIwoTlvc"
      }
    },
    {
      "cell_type": "markdown",
      "source": [
        "## Pedestrian Location"
      ],
      "metadata": {
        "id": "NGhyhzuFtlLH"
      }
    },
    {
      "cell_type": "code",
      "source": [
        "# Relevant data: Person Location Code, Fatality\n",
        "df['Location Code'] = df['Person Location Code']-1\n",
        "location_codes = ['Crosswalk Intersection','Unmarked Intersection','Other Intersection','Crosswalk Midblock','Car Lane','Bicycle Lane','Roadside','Sidewalk','Median','Driveway','Shared Path','No-Traffic Area']\n",
        "ldf = df[['Location Code','Fatality']][df['Location Code']<76] # exclude na/unknown/other location state"
      ],
      "metadata": {
        "id": "O4cv0sOEWOk4"
      },
      "execution_count": null,
      "outputs": []
    },
    {
      "cell_type": "markdown",
      "source": [
        "### Descriptive Statistics\n"
      ],
      "metadata": {
        "id": "Fnsmd0vUXawG"
      }
    },
    {
      "cell_type": "markdown",
      "source": [
        "The location of a pedestrian should have a significant effect on both the fatality rate of the crash and the likelihood of a crash."
      ],
      "metadata": {
        "id": "ZN3aRqhYXftN"
      }
    },
    {
      "cell_type": "code",
      "source": [
        "_,ax = plt.subplots(2,1,figsize=(18,8))\n",
        "sns.barplot(ax=ax[0], x=range(12), y=ldf.groupby('Location Code').count()['Fatality']) # plot fatality by alcohol use\n",
        "ax[0].set_xticks(range(12),location_codes)\n",
        "ax[0].set_ylabel('Number of Crashes')\n",
        "ax[0].set_title('Pedestrian crashes by Location')\n",
        "ax[0].tick_params(labelrotation=8)\n",
        "sns.barplot(ax=ax[1], x=range(12), y=ldf.groupby('Location Code').mean()['Fatality']) # plot fatality by drug use\n",
        "ax[1].set_xticks(range(12),location_codes)\n",
        "ax[1].set_title('Fatality rate by Location')\n",
        "ax[1].set_ylabel('Fraction of Fatal Crashes')\n",
        "ax[1].tick_params(labelrotation=8)\n",
        "plt.show()"
      ],
      "metadata": {
        "id": "jp0uOxaTXe02"
      },
      "execution_count": null,
      "outputs": []
    },
    {
      "cell_type": "markdown",
      "source": [
        "Based on this chart, location appears to have a strong effect on fatality rates; some locations have as much as one-third of crashes be fatal, while others have less than one-tenth; even with strong sample size."
      ],
      "metadata": {
        "id": "Audju2jgaag1"
      }
    },
    {
      "cell_type": "markdown",
      "source": [
        "### Chi-Square Test"
      ],
      "metadata": {
        "id": "_7wq2RuGap2b"
      }
    },
    {
      "cell_type": "code",
      "source": [
        "# calculate observed location fatalities by evaluating fatality amounts for all locations\n",
        "observed_location = []\n",
        "for i in range(12):\n",
        "  observed_location.append((sum(ldf[ldf['Location Code']==i]['Fatality']),len(ldf[ldf['Location Code']==i])-sum(ldf[ldf['Location Code']==i]['Fatality'])))\n",
        "\n",
        "# calculate expected location fatalities by multiplying location proportion by fatality rate\n",
        "expected_location,total = [],len(ldf)\n",
        "for place in range(len(observed_location)):\n",
        "  expected_location.append([])\n",
        "  for item in range(len(observed_location[place])):\n",
        "    expected_location[-1].append(sum(observed_location[place])*sum([row[item] for row in observed_location])/total)\n",
        "\n",
        "for place in range(len(observed_location)):\n",
        "  print(location_codes[place]+':')\n",
        "  print(f'  Observed values: {observed_location[place]}\\n  Expected values: ({expected_location[place][0]:.3f}, {expected_location[place][1]:.3f})')"
      ],
      "metadata": {
        "id": "nqekVT-TauPU"
      },
      "execution_count": null,
      "outputs": []
    },
    {
      "cell_type": "markdown",
      "source": [
        "With the amounts found above, a Chi-Square test can be conducted at 95% significance against the critical value of 19.675 (DF 11)"
      ],
      "metadata": {
        "id": "B7A6hUM0iQFm"
      }
    },
    {
      "cell_type": "code",
      "source": [
        "chi = 0\n",
        "for i in range(len(observed_location)):\n",
        "  for j in range(len(observed_location[i])):\n",
        "    chi += (observed_location[i][j]-expected_location[i][j])**2/expected_location[i][j]\n",
        "print('Location Chi-square statistic:',round(chi,3),'   Greater than 19.675?',chi>19.675)"
      ],
      "metadata": {
        "id": "yMKzBZ9sh6OF"
      },
      "execution_count": null,
      "outputs": []
    },
    {
      "cell_type": "markdown",
      "source": [
        "Based on a statistic of over 52, the chance of traffic accident location and pedestrian chance of death are strongly linked, with some locations of impact being more likely to result in death than others."
      ],
      "metadata": {
        "id": "NOpu9rjMi2u_"
      }
    },
    {
      "cell_type": "markdown",
      "source": [
        "## Pedestrian Activity"
      ],
      "metadata": {
        "id": "UF0ABi94tXaH"
      }
    },
    {
      "cell_type": "markdown",
      "source": [],
      "metadata": {
        "id": "2OtJdF25lynN"
      }
    },
    {
      "cell_type": "code",
      "source": [
        "# Relevant data: Person Action Code, Fatality\n",
        "# Removed irrelevant/small categories: Walking to School, Incident Response in Traffic\n",
        "df['Action Code'] = df['Person Action Code']-1\n",
        "action_codes = ['Crossing Road','Waiting to Cross','Moving along road with traffic','Moving along road against traffic','On sidewalk','Work/Play on road','Walking on median']\n",
        "cdf = df[['Action Code','Fatality']][df['Action Code']<7] # exclude na/unknown/other location state"
      ],
      "metadata": {
        "id": "0gAlAbrrkWE9"
      },
      "execution_count": null,
      "outputs": []
    },
    {
      "cell_type": "markdown",
      "source": [
        "### Descriptive Statistics"
      ],
      "metadata": {
        "id": "8MQyNuPuns9d"
      }
    },
    {
      "cell_type": "code",
      "source": [
        "_,ax = plt.subplots(2,1,figsize=(12,8))\n",
        "sns.barplot(ax=ax[0], x=range(7), y=cdf.groupby('Action Code').count()['Fatality']) # plot fatality by alcohol use\n",
        "ax[0].set_xticks(range(7),action_codes)\n",
        "ax[0].set_ylabel('Number of Crashes')\n",
        "ax[0].set_title('Pedestrian crashes by Activity')\n",
        "ax[0].tick_params(labelrotation=8)\n",
        "sns.barplot(ax=ax[1], x=range(7), y=cdf.groupby('Action Code').mean()['Fatality']) # plot fatality by drug use\n",
        "ax[1].set_xticks(range(7),action_codes)\n",
        "ax[1].set_title('Fatality rate by Activity')\n",
        "ax[1].set_ylabel('Fraction of Fatal Crashes')\n",
        "ax[1].tick_params(labelrotation=8)\n",
        "plt.tight_layout()\n",
        "plt.show()"
      ],
      "metadata": {
        "id": "5LksYyKKlxLn"
      },
      "execution_count": null,
      "outputs": []
    },
    {
      "cell_type": "markdown",
      "source": [
        "Based on these charts, the actions of a pedestrian prior to impact seem to have a significant effect. Working/Playing on the road appears to be the most fatal activity, while crossing the road the most dangerous. Notably, moving against traffic is much safer than moving with."
      ],
      "metadata": {
        "id": "NhflHTLBsFAx"
      }
    },
    {
      "cell_type": "markdown",
      "source": [
        "### Chi-Square Test"
      ],
      "metadata": {
        "id": "9vFnY0f9sYFB"
      }
    },
    {
      "cell_type": "code",
      "source": [
        "# calculate observed action fatalities by evaluating fatality amounts for all actions\n",
        "observed_action = []\n",
        "for i in range(7):\n",
        "  observed_action.append((sum(cdf[cdf['Action Code']==i]['Fatality']),len(cdf[cdf['Action Code']==i])-sum(cdf[cdf['Action Code']==i]['Fatality'])))\n",
        "\n",
        "# calculate expected action fatalities by multiplying action proportion by fatality rate\n",
        "expected_action,total = [],len(cdf)\n",
        "for action in range(len(observed_action)):\n",
        "  expected_action.append([])\n",
        "  for item in range(len(observed_action[action])):\n",
        "    expected_action[-1].append(sum(observed_action[action])*sum([row[item] for row in observed_action])/total)\n",
        "\n",
        "for action in range(len(observed_action)):\n",
        "  print(action_codes[action]+':')\n",
        "  print(f'  Observed values: {observed_action[action]}\\n  Expected values: ({expected_action[action][0]:.3f}, {expected_action[action][1]:.3f})')"
      ],
      "metadata": {
        "id": "Ez1SpuEoszqs"
      },
      "execution_count": null,
      "outputs": []
    },
    {
      "cell_type": "markdown",
      "source": [
        "With the amounts found above, a Chi-Square test can be conducted at 95% significance against the critical value of 12.592 (DF 6)"
      ],
      "metadata": {
        "id": "Biv_X6Sztoeb"
      }
    },
    {
      "cell_type": "code",
      "source": [
        "chi = 0\n",
        "for i in range(len(observed_action)):\n",
        "  for j in range(len(observed_action[i])):\n",
        "    chi += (observed_action[i][j]-expected_action[i][j])**2/expected_action[i][j]\n",
        "print('Activity Chi-square statistic:',round(chi,3),'   Greater than 12.592?',chi>12.592)"
      ],
      "metadata": {
        "id": "ib0nE1rutn4q"
      },
      "execution_count": null,
      "outputs": []
    },
    {
      "cell_type": "markdown",
      "source": [
        "The result of this Chi-Square test, 18.64, represents a p-value of approx. 0.005. This means that, with 99.5% confidence, we can conclude that pedestrian activity has some kind of correlation with the chance of a potential impact being fatal."
      ],
      "metadata": {
        "id": "tmBQwuult_xX"
      }
    },
    {
      "cell_type": "markdown",
      "source": [
        "## Conclusions"
      ],
      "metadata": {
        "id": "Srcfa4fPqyRD"
      }
    },
    {
      "cell_type": "markdown",
      "source": [
        "Based on all the testing, there is strong evidence for alcohol use, drug use, age, location and activity having a relationship with the chance of fatality versus survival in the event of a pedestrian impact. Time-related variables, such as time of day and day of week, did not have strong enough evidence to say anything for sure, although there is a high likelihood for day of week having a correlation."
      ],
      "metadata": {
        "id": "_V946joouXDa"
      }
    }
  ]
}